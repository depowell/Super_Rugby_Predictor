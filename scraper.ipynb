{
 "cells": [
  {
   "cell_type": "code",
   "execution_count": 2,
   "metadata": {},
   "outputs": [],
   "source": [
    "#http://www.superrugby.co.nz/Grandstand/HistoricalStandings/30\n",
    "\n",
    "# import libraries\n",
    "import requests\n",
    "from bs4 import BeautifulSoup\n",
    "\n",
    "# specify the url\n",
    "url = 'http://www.superrugby.co.nz/Grandstand/HistoricalResults/'\n",
    "\n",
    "page = requests.get(url + '2005') # 2005 Super 12\n",
    "# need to get years 2006 - 2018\n",
    "\n",
    "# Create a BeautifulSoup object\n",
    "soup = BeautifulSoup(page.text, 'html.parser').find(\"div\", {\"class\": \"content\"})"
   ]
  },
  {
   "cell_type": "code",
   "execution_count": 3,
   "metadata": {},
   "outputs": [
    {
     "name": "stdout",
     "output_type": "stream",
     "text": [
      "<h2>2005 Super 12</h2>\n"
     ]
    }
   ],
   "source": [
    "season = soup.h2\n",
    "print(season)"
   ]
  },
  {
   "cell_type": "code",
   "execution_count": 4,
   "metadata": {},
   "outputs": [],
   "source": [
    "data = soup.table"
   ]
  },
  {
   "cell_type": "code",
   "execution_count": 45,
   "metadata": {},
   "outputs": [
    {
     "name": "stdout",
     "output_type": "stream",
     "text": [
      "         0                     1          2        3      4        0\n",
      "0  Round 1                  None       None     None   None  Round 1\n",
      "1   25 Feb   Highlanders v Blues    Dunedin  7:35 PM  14-30  Round 1\n",
      "2   25 Feb     Waratahs v Chiefs     Sydney  9:40 PM   25-7  Round 1\n",
      "3   26 Feb     Stormers v Sharks  Cape Town  5:10 AM  26-12  Round 1\n",
      "4   26 Feb  Brumbies v Crusaders   Canberra  9:00 PM  32-21  Round 1\n"
     ]
    }
   ],
   "source": [
    "import pandas as pd\n",
    "import re\n",
    "\n",
    "pattern = re.compile(\"^(Round|Semifinal).*\")\n",
    "\n",
    "table_nice = []\n",
    "table_round = []\n",
    "\n",
    "table_body = data.find('tbody')\n",
    "\n",
    "rows = table_body.find_all('tr')\n",
    "\n",
    "for row in rows:\n",
    "    cols = row.find_all('td')\n",
    "    cols_nice = [ele.text.strip() for ele in cols]\n",
    "    cols_round = [x.text.strip() for x in cols if pattern.match(x.text.strip())]\n",
    "    table_nice.append([ele for ele in cols_nice if ele]) # Get rid of empty values\n",
    "    table_round.append([ele for ele in cols_round if ele]) # Get rid of empty values\n",
    "   \n",
    "df1 = pd.DataFrame(table_nice)\n",
    "df2 = pd.DataFrame(table_round).fillna(method='ffill')\n",
    "df = pd.concat([df1, df2], axis=1)\n",
    "\n",
    "print(df.head(5))"
   ]
  },
  {
   "cell_type": "code",
   "execution_count": 46,
   "metadata": {},
   "outputs": [
    {
     "name": "stdout",
     "output_type": "stream",
     "text": [
      "      date                   location      time    round          home  \\\n",
      "1   25 Feb                    Dunedin   7:35 PM  Round 1  Highlanders    \n",
      "2   25 Feb                     Sydney   9:40 PM  Round 1     Waratahs    \n",
      "3   26 Feb                  Cape Town   5:10 AM  Round 1     Stormers    \n",
      "4   26 Feb                   Canberra   9:00 PM  Round 1     Brumbies    \n",
      "5   26 Feb                   Brisbane  11:05 PM  Round 1         Reds    \n",
      "6   27 Feb               Johannesburg   4:00 AM  Round 1         Cats    \n",
      "8   04 Mar        Eden Park, Auckland   7:35 PM  Round 2        Blues    \n",
      "9   04 Mar                   Canberra   9:40 PM  Round 2     Brumbies    \n",
      "10  05 Mar               Invercargill   5:30 PM  Round 2  Highlanders    \n",
      "11  05 Mar  AMI Stadium, Christchurch   7:35 PM  Round 2    Crusaders    \n",
      "12  06 Mar                     Durban   5:30 AM  Round 2       Sharks    \n",
      "13  06 Mar               Johannesburg   5:30 AM  Round 2         Cats    \n",
      "15  11 Mar                    Dunedin   7:35 PM  Round 3  Highlanders    \n",
      "16  11 Mar                   Canberra   9:40 PM  Round 3     Brumbies    \n",
      "17  12 Mar                     Durban   6:10 AM  Round 3       Sharks    \n",
      "\n",
      "           away  hp  ap  sm ho  \n",
      "1         Blues  14  30 -16  L  \n",
      "2        Chiefs  25   7  18  W  \n",
      "3        Sharks  26  12  14  W  \n",
      "4     Crusaders  32  21  11  W  \n",
      "5    Hurricanes  10  24 -14  L  \n",
      "6         Bulls  23  17   6  W  \n",
      "8          Reds  18  15   3  W  \n",
      "9         Bulls  21  19   2  W  \n",
      "10     Stormers  16  16   0  D  \n",
      "11       Chiefs  50  18  32  W  \n",
      "12     Waratahs  13  36 -23  L  \n",
      "13   Hurricanes  32  45 -13  L  \n",
      "15        Bulls  23   0  23  W  \n",
      "16     Stormers  22  19   3  W  \n",
      "17   Hurricanes  23  29  -6  L  \n",
      "Index(['date', 'location', 'time', 'round', 'home', 'away', 'hp', 'ap', 'sm',\n",
      "       'ho'],\n",
      "      dtype='object')\n"
     ]
    }
   ],
   "source": [
    "df.dropna(inplace = True) \n",
    "#data[1]= data[1].str.split(\"v\", n = 1, expand = True) \n",
    "df.columns = ['date','teams','location',\n",
    "                     'time','score','round']\n",
    "\n",
    "def outcome(f):\n",
    "    if f > 0:\n",
    "        return 'W'\n",
    "    elif f < 0:\n",
    "        return 'L'\n",
    "    else:\n",
    "        return 'D'\n",
    "\n",
    "df['home'] = df['teams'].str.split('v').str[0]\n",
    "df['away'] = df['teams'].str.split('v').str[1]\n",
    "df['hp'] = df['score'].str.split('-').str[0].astype('int') # home points\n",
    "df['ap'] = df['score'].str.split('-').str[1].astype('int') # away points\n",
    "df['sm'] = df['hp'] - df['ap'] # score margin\n",
    "df['ho'] = [outcome(x) for x in df['sm']] # home outcome\n",
    "\n",
    "remove_columns = ['teams','score']\n",
    "df = df.drop(columns=remove_columns)\n",
    "\n",
    "print(df.head(15))\n",
    "print(df.columns)"
   ]
  },
  {
   "cell_type": "code",
   "execution_count": 47,
   "metadata": {},
   "outputs": [
    {
     "name": "stdout",
     "output_type": "stream",
     "text": [
      "      date                       location     time       round          home  \\\n",
      "65  06 May            Eden Park, Auckland  7:35 PM    Round 11        Blues    \n",
      "66  06 May                         Sydney  9:40 PM    Round 11     Waratahs    \n",
      "67  07 May                        Dunedin  7:35 PM    Round 11  Highlanders    \n",
      "68  07 May                       Canberra  9:40 PM    Round 11     Brumbies    \n",
      "69  08 May                         Durban  1:00 AM    Round 11       Sharks    \n",
      "70  08 May                      Cape Town  3:00 AM    Round 11     Stormers    \n",
      "72  13 May      AMI Stadium, Christchurch  7:35 PM    Round 12    Crusaders    \n",
      "73  13 May                         Sydney  9:40 PM    Round 12     Waratahs    \n",
      "74  14 May  FMG Stadium Waikato, Hamilton  7:35 PM    Round 12       Chiefs    \n",
      "75  14 May                       Brisbane  9:40 PM    Round 12         Reds    \n",
      "76  15 May                       Pretoria  1:00 AM    Round 12        Bulls    \n",
      "77  15 May                   Bloemfontein  3:00 AM    Round 12         Cats    \n",
      "79  20 May      AMI Stadium, Christchurch  7:35 PM  Semifinals    Crusaders    \n",
      "80  21 May                         Sydney  9:40 PM  Semifinals     Waratahs    \n",
      "81  28 May      AMI Stadium, Christchurch  7:35 PM  Semifinals    Crusaders    \n",
      "\n",
      "            away  hp  ap  sm ho  \n",
      "65    Hurricanes  10  22 -12  L  \n",
      "66          Reds  27   8  19  W  \n",
      "67     Crusaders  13  27 -14  L  \n",
      "68        Chiefs  28  28   0  D  \n",
      "69         Bulls  17  23  -6  L  \n",
      "70          Cats  25  20   5  W  \n",
      "72    Hurricanes  40  20  20  W  \n",
      "73         Blues  25  20   5  W  \n",
      "74   Highlanders  31   8  23  W  \n",
      "75      Brumbies  21  38 -17  L  \n",
      "76      Stormers  75  14  61  W  \n",
      "77        Sharks  20  20   0  D  \n",
      "79    Hurricanes  47   7  40  W  \n",
      "80         Bulls  23  13  10  W  \n",
      "81      Waratahs  35  25  10  W  \n"
     ]
    }
   ],
   "source": [
    "print(df.tail(15))"
   ]
  }
 ],
 "metadata": {
  "kernelspec": {
   "display_name": "Python 3",
   "language": "python",
   "name": "python3"
  },
  "language_info": {
   "codemirror_mode": {
    "name": "ipython",
    "version": 3
   },
   "file_extension": ".py",
   "mimetype": "text/x-python",
   "name": "python",
   "nbconvert_exporter": "python",
   "pygments_lexer": "ipython3",
   "version": "3.7.1"
  }
 },
 "nbformat": 4,
 "nbformat_minor": 2
}

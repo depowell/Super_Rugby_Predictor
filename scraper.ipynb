{
 "cells": [
  {
   "cell_type": "code",
   "execution_count": 1,
   "metadata": {},
   "outputs": [],
   "source": [
    "#http://www.superrugby.co.nz/Grandstand/HistoricalStandings/30\n",
    "\n",
    "# import libraries\n",
    "import requests\n",
    "from bs4 import BeautifulSoup\n",
    "\n",
    "# specify the url\n",
    "url = 'http://www.superrugby.co.nz/Grandstand/HistoricalResults/'\n",
    "page = requests.get(url + '2005') # 2005 Super 12\n",
    "# need to get years 2006 - 2018\n",
    "\n",
    "# Create a BeautifulSoup object\n",
    "soup = BeautifulSoup(page.text, 'html.parser').find(\"div\", {\"class\": \"content\"})"
   ]
  },
  {
   "cell_type": "code",
   "execution_count": 2,
   "metadata": {},
   "outputs": [
    {
     "name": "stdout",
     "output_type": "stream",
     "text": [
      "<h2>2005 Super 12</h2>\n"
     ]
    }
   ],
   "source": [
    "season = soup.h2\n",
    "print(season)"
   ]
  },
  {
   "cell_type": "code",
   "execution_count": 7,
   "metadata": {},
   "outputs": [],
   "source": [
    "data = soup.table"
   ]
  },
  {
   "cell_type": "code",
   "execution_count": 40,
   "metadata": {},
   "outputs": [
    {
     "name": "stdout",
     "output_type": "stream",
     "text": [
      "<class 'list'>\n",
      "         0                     1          2        3      4\n",
      "0  Round 1                  None       None     None   None\n",
      "1   25 Feb   Highlanders v Blues    Dunedin  7:35 PM  14-30\n",
      "2   25 Feb     Waratahs v Chiefs     Sydney  9:40 PM   25-7\n",
      "3   26 Feb     Stormers v Sharks  Cape Town  5:10 AM  26-12\n",
      "4   26 Feb  Brumbies v Crusaders   Canberra  9:00 PM  32-21\n"
     ]
    }
   ],
   "source": [
    "import pandas as pd\n",
    "\n",
    "table_nice = []\n",
    "table_body = data.find('tbody')\n",
    "\n",
    "rows = table_body.find_all('tr')\n",
    "for row in rows:\n",
    "    cols = row.find_all('td')\n",
    "    cols = [ele.text.strip() for ele in cols]\n",
    "    search = 'Round'\n",
    "    for col in cols:\n",
    "        if col.startswith(search):\n",
    "            #print('Found it!' + col)\n",
    "            #print(col)\n",
    "            break        \n",
    "    table_nice.append([ele for ele in cols if ele]) # Get rid of empty values\n",
    "    \n",
    "print(type(table_nice))\n",
    "df = pd.DataFrame(table_nice)\n",
    "print(df.head(5))"
   ]
  },
  {
   "cell_type": "code",
   "execution_count": 41,
   "metadata": {},
   "outputs": [
    {
     "name": "stdout",
     "output_type": "stream",
     "text": [
      "     date   location      time          home         away  hp  ap  sm ho\n",
      "1  25 Feb    Dunedin   7:35 PM  Highlanders         Blues  14  30 -16  L\n",
      "2  25 Feb     Sydney   9:40 PM     Waratahs        Chiefs  25   7  18  W\n",
      "3  26 Feb  Cape Town   5:10 AM     Stormers        Sharks  26  12  14  W\n",
      "4  26 Feb   Canberra   9:00 PM     Brumbies     Crusaders  32  21  11  W\n",
      "5  26 Feb   Brisbane  11:05 PM         Reds    Hurricanes  10  24 -14  L\n",
      "Index(['date', 'location', 'time', 'home', 'away', 'hp', 'ap', 'sm', 'ho'], dtype='object')\n"
     ]
    }
   ],
   "source": [
    "df.dropna(inplace = True) \n",
    "#data[1]= data[1].str.split(\"v\", n = 1, expand = True) \n",
    "df.columns = ['date','teams','location',\n",
    "                     'time','score']\n",
    "\n",
    "def outcome(f):\n",
    "    if f > 0:\n",
    "        return 'W'\n",
    "    elif f < 0:\n",
    "        return 'L'\n",
    "    else:\n",
    "        return 'D'\n",
    "\n",
    "df['home'] = df['teams'].str.split('v').str[0]\n",
    "df['away'] = df['teams'].str.split('v').str[1]\n",
    "df['hp'] = df['score'].str.split('-').str[0].astype('int') # home points\n",
    "df['ap'] = df['score'].str.split('-').str[1].astype('int') # away points\n",
    "df['sm'] = df['hp'] - df['ap'] # score margin\n",
    "df['ho'] = [outcome(x) for x in df['sm']] # home outcome\n",
    "\n",
    "remove_columns = ['teams','score']\n",
    "df = df.drop(columns=remove_columns)\n",
    "\n",
    "print(df.head(5))\n",
    "print(df.columns)"
   ]
  }
 ],
 "metadata": {
  "kernelspec": {
   "display_name": "Python 3",
   "language": "python",
   "name": "python3"
  },
  "language_info": {
   "codemirror_mode": {
    "name": "ipython",
    "version": 3
   },
   "file_extension": ".py",
   "mimetype": "text/x-python",
   "name": "python",
   "nbconvert_exporter": "python",
   "pygments_lexer": "ipython3",
   "version": "3.7.1"
  }
 },
 "nbformat": 4,
 "nbformat_minor": 2
}
